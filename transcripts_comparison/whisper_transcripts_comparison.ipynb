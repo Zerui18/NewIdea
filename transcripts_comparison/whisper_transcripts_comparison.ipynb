{
 "cells": [
  {
   "cell_type": "code",
   "execution_count": 55,
   "metadata": {},
   "outputs": [
    {
     "name": "stdout",
     "output_type": "stream",
     "text": [
      "[1/10] Processing SI1027.WAV\n",
      "[2/10] Processing SI1657.WAV\n",
      "[3/10] Processing SX307.WAV\n",
      "[4/10] Processing SX397.WAV\n",
      "[5/10] Processing SA1.WAV\n",
      "[6/10] Processing SA2.WAV\n",
      "[7/10] Processing SX217.WAV\n",
      "[8/10] Processing SX37.WAV\n",
      "[9/10] Processing SI648.WAV\n",
      "[10/10] Processing SX127.WAV\n",
      "Generating visualizations...\n"
     ]
    }
   ],
   "source": [
    "import os\n",
    "import whisper\n",
    "import matplotlib.pyplot as plt\n",
    "import matplotlib.patches as patches\n",
    "from matplotlib.backends.backend_pdf import PdfPages\n",
    "\n",
    "def generate_transcript(file_path, model):\n",
    "    model = whisper.load_model(model)\n",
    "    result = model.transcribe(file_path, word_timestamps=True)\n",
    "    return result['segments'][0]['words']\n",
    "\n",
    "def read_words(path, convert_to_seconds=True, sample_rate=16000):\n",
    "    words = []\n",
    "    with open(path) as f:\n",
    "        for line in f:\n",
    "            if line == '':\n",
    "                break\n",
    "            words.append({\n",
    "                'word': line.split()[-1].strip(),\n",
    "                'start': line.split()[0],\n",
    "                'end': line.split()[1]\n",
    "            })\n",
    "    if convert_to_seconds:\n",
    "        for word in words:\n",
    "            word['start'] = float(word['start']) / sample_rate\n",
    "            word['end'] = float(word['end']) / sample_rate\n",
    "    return words\n",
    "\n",
    "def plot_transcript(transcript, ax, y_pos, label):\n",
    "    for word_info in transcript:\n",
    "        start = word_info['start']\n",
    "        end = word_info['end']\n",
    "        word = word_info['word']\n",
    "        duration = end - start\n",
    "        rect = patches.Rectangle((start, y_pos), duration, 0.4, edgecolor='black', facecolor='skyblue')\n",
    "        ax.add_patch(rect)\n",
    "        ax.text(start + duration / 2, y_pos + 0.2, word, ha='center', va='center', fontsize=8)\n",
    "    ax.text(0, y_pos + 0.2, label, ha='right', va='center', fontsize=10, fontweight='bold')\n",
    "\n",
    "def visualize_transcripts(transcripts, labels):\n",
    "    fig, ax = plt.subplots(figsize=(15, len(transcripts)))\n",
    "    for i, transcript, label in zip(range(len(transcripts)), transcripts, labels):\n",
    "        plot_transcript(transcript, ax, i * 0.5, label)\n",
    "    max_duration = max([t[-1]['end'] for t in transcripts])\n",
    "    ax.set_xlim([0, max_duration])\n",
    "    ax.set_yticks([])\n",
    "    ax.set_xlabel('Time (s)')\n",
    "    ax.set_title('Transcripts Comparison')\n",
    "    return fig\n",
    "\n",
    "def generate_visualizations(directory_path, model='tiny.en'):\n",
    "    transcripts = []\n",
    "    labels = []\n",
    "    file_names = [n for n in os.listdir(directory_path) if n.endswith('.WAV')]\n",
    "    for i, file_name in enumerate(file_names):\n",
    "        print(f'[{i+1}/{len(file_names)}] Processing {file_name}')\n",
    "        file_path = os.path.join(directory_path, file_name)\n",
    "        transcript = generate_transcript(file_path, model)\n",
    "        wrd_file_path = os.path.join(directory_path, file_name.replace('.WAV', '.WRD'))\n",
    "        words = read_words(wrd_file_path)\n",
    "        transcripts.append(transcript)\n",
    "        transcripts.append(words)\n",
    "        labels.append(file_name + ' (whisper)')\n",
    "        labels.append(file_name.replace('.WAV', '.WRD') + ' (ground truth)')\n",
    "    print('Generating visualizations...')\n",
    "    figs = []\n",
    "    for i in range(0, len(transcripts), 2):\n",
    "        fig = visualize_transcripts([transcripts[i], transcripts[i+1]], [labels[i], labels[i+1]])\n",
    "        figs.append(fig)\n",
    "    with PdfPages(f'transcripts_comparison-{model}.pdf') as pdf:\n",
    "        for fig in figs:\n",
    "            pdf.savefig(fig)\n",
    "    plt.close('all')\n",
    "\n",
    "generate_visualizations('TIMIT/TRAIN/DR1/FCJF0/') # replace with the actual directory path\n"
   ]
  },
  {
   "cell_type": "code",
   "execution_count": 56,
   "metadata": {},
   "outputs": [
    {
     "name": "stdout",
     "output_type": "stream",
     "text": [
      "[1/10] Processing SI1027.WAV\n",
      "[2/10] Processing SI1657.WAV\n",
      "[3/10] Processing SX307.WAV\n",
      "[4/10] Processing SX397.WAV\n",
      "[5/10] Processing SA1.WAV\n",
      "[6/10] Processing SA2.WAV\n",
      "[7/10] Processing SX217.WAV\n",
      "[8/10] Processing SX37.WAV\n",
      "[9/10] Processing SI648.WAV\n",
      "[10/10] Processing SX127.WAV\n",
      "Generating visualizations...\n",
      "[1/10] Processing SI1027.WAV\n"
     ]
    },
    {
     "name": "stderr",
     "output_type": "stream",
     "text": [
      "100%|███████████████████████████████████████| 139M/139M [00:03<00:00, 44.4MiB/s]\n"
     ]
    },
    {
     "name": "stdout",
     "output_type": "stream",
     "text": [
      "[2/10] Processing SI1657.WAV\n",
      "[3/10] Processing SX307.WAV\n",
      "[4/10] Processing SX397.WAV\n",
      "[5/10] Processing SA1.WAV\n",
      "[6/10] Processing SA2.WAV\n",
      "[7/10] Processing SX217.WAV\n",
      "[8/10] Processing SX37.WAV\n",
      "[9/10] Processing SI648.WAV\n",
      "[10/10] Processing SX127.WAV\n",
      "Generating visualizations...\n",
      "[1/10] Processing SI1027.WAV\n"
     ]
    },
    {
     "name": "stderr",
     "output_type": "stream",
     "text": [
      "100%|███████████████████████████████████████| 461M/461M [00:08<00:00, 53.8MiB/s]\n"
     ]
    },
    {
     "name": "stdout",
     "output_type": "stream",
     "text": [
      "[2/10] Processing SI1657.WAV\n",
      "[3/10] Processing SX307.WAV\n",
      "[4/10] Processing SX397.WAV\n",
      "[5/10] Processing SA1.WAV\n",
      "[6/10] Processing SA2.WAV\n",
      "[7/10] Processing SX217.WAV\n",
      "[8/10] Processing SX37.WAV\n",
      "[9/10] Processing SI648.WAV\n",
      "[10/10] Processing SX127.WAV\n",
      "Generating visualizations...\n",
      "[1/10] Processing SI1027.WAV\n"
     ]
    },
    {
     "name": "stderr",
     "output_type": "stream",
     "text": [
      "100%|█████████████████████████████████████| 1.42G/1.42G [00:23<00:00, 64.1MiB/s]\n"
     ]
    },
    {
     "name": "stdout",
     "output_type": "stream",
     "text": [
      "[2/10] Processing SI1657.WAV\n",
      "[3/10] Processing SX307.WAV\n",
      "[4/10] Processing SX397.WAV\n",
      "[5/10] Processing SA1.WAV\n",
      "[6/10] Processing SA2.WAV\n",
      "[7/10] Processing SX217.WAV\n",
      "[8/10] Processing SX37.WAV\n",
      "[9/10] Processing SI648.WAV\n",
      "[10/10] Processing SX127.WAV\n",
      "Generating visualizations...\n",
      "[1/10] Processing SI1027.WAV\n"
     ]
    },
    {
     "name": "stderr",
     "output_type": "stream",
     "text": [
      "100%|█████████████████████████████████████| 2.88G/2.88G [00:35<00:00, 86.9MiB/s]\n"
     ]
    },
    {
     "name": "stdout",
     "output_type": "stream",
     "text": [
      "[2/10] Processing SI1657.WAV\n",
      "[3/10] Processing SX307.WAV\n",
      "[4/10] Processing SX397.WAV\n",
      "[5/10] Processing SA1.WAV\n",
      "[6/10] Processing SA2.WAV\n",
      "[7/10] Processing SX217.WAV\n",
      "[8/10] Processing SX37.WAV\n",
      "[9/10] Processing SI648.WAV\n",
      "[10/10] Processing SX127.WAV\n",
      "Generating visualizations...\n"
     ]
    }
   ],
   "source": [
    "MODELS = [\n",
    "    'tiny.en',\n",
    "    'base.en',\n",
    "    'small.en',\n",
    "    'medium',\n",
    "    'large-v3'\n",
    "]\n",
    "\n",
    "for model in MODELS:\n",
    "    generate_visualizations('../TIMIT/TRAIN/DR1/FCJF0/', model)"
   ]
  },
  {
   "cell_type": "code",
   "execution_count": null,
   "metadata": {},
   "outputs": [],
   "source": []
  }
 ],
 "metadata": {
  "kernelspec": {
   "display_name": "Python 3",
   "language": "python",
   "name": "python3"
  },
  "language_info": {
   "codemirror_mode": {
    "name": "ipython",
    "version": 3
   },
   "file_extension": ".py",
   "mimetype": "text/x-python",
   "name": "python",
   "nbconvert_exporter": "python",
   "pygments_lexer": "ipython3",
   "version": "3.9.18"
  }
 },
 "nbformat": 4,
 "nbformat_minor": 2
}
