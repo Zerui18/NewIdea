{
 "cells": [
  {
   "cell_type": "code",
   "execution_count": 19,
   "metadata": {},
   "outputs": [
    {
     "name": "stdout",
     "output_type": "stream",
     "text": [
      "Augmented audio saved to ../TIMIT/TRAIN/DR1/FCJF0/SA1-aug.wav\n"
     ]
    },
    {
     "name": "stderr",
     "output_type": "stream",
     "text": [
      "/home/chen/.local/lib/python3.9/site-packages/audiomentations/core/transforms_interface.py:61: UserWarning: Warning: input samples dtype is np.float64. Converting to np.float32\n",
      "  warnings.warn(\n"
     ]
    }
   ],
   "source": [
    "import soundfile as sf\n",
    "import audiomentations as A\n",
    "from pathlib import Path\n",
    "\n",
    "def augment_audio(input_path):\n",
    "    # Define augmentations\n",
    "    augmentations = A.Compose([\n",
    "        A.AddGaussianNoise(max_amplitude=0.01, p=1),\n",
    "        A.ClippingDistortion(p=1),\n",
    "        A.Gain(p=1),\n",
    "        A.PeakingFilter(p=1),\n",
    "        A.Mp3Compression(p=1),\n",
    "    ])\n",
    "    \n",
    "    # Load audio file\n",
    "    audio, sr = sf.read(input_path)\n",
    "    \n",
    "    # Apply augmentations\n",
    "    augmented_audio = augmentations(samples=audio, sample_rate=sr)\n",
    "    \n",
    "    # Save augmented audio\n",
    "    output_path = Path(input_path).with_name(f\"{Path(input_path).stem}-aug.wav\")\n",
    "    sf.write(output_path, augmented_audio, samplerate=sr)\n",
    "    \n",
    "    return output_path\n",
    "\n",
    "# Example usage\n",
    "input_path = \"../TIMIT/TRAIN/DR1/FCJF0/SA1.WAV\"\n",
    "output_path = augment_audio(input_path)\n",
    "print(f\"Augmented audio saved to {output_path}\")\n"
   ]
  },
  {
   "cell_type": "code",
   "execution_count": 29,
   "metadata": {},
   "outputs": [],
   "source": [
    "import whisper\n",
    "\n",
    "model = whisper.load_model('large-v3')"
   ]
  },
  {
   "cell_type": "code",
   "execution_count": 30,
   "metadata": {},
   "outputs": [
    {
     "data": {
      "text/plain": [
       "{'text': ' He has the best suit and he can walk around all year.',\n",
       " 'segments': [{'id': 0,\n",
       "   'seek': 0,\n",
       "   'start': 0.0,\n",
       "   'end': 2.92,\n",
       "   'text': ' He has the best suit and he can walk around all year.',\n",
       "   'tokens': [50365,\n",
       "    634,\n",
       "    575,\n",
       "    264,\n",
       "    1151,\n",
       "    5722,\n",
       "    293,\n",
       "    415,\n",
       "    393,\n",
       "    1792,\n",
       "    926,\n",
       "    439,\n",
       "    1064,\n",
       "    13,\n",
       "    50511],\n",
       "   'temperature': 0.0,\n",
       "   'avg_logprob': -0.44004854559898376,\n",
       "   'compression_ratio': 0.9137931034482759,\n",
       "   'no_speech_prob': 0.035187095403671265}],\n",
       " 'language': 'en'}"
      ]
     },
     "execution_count": 30,
     "metadata": {},
     "output_type": "execute_result"
    }
   ],
   "source": [
    "result = model.transcribe(str(output_path))\n",
    "result"
   ]
  },
  {
   "cell_type": "code",
   "execution_count": 31,
   "metadata": {},
   "outputs": [
    {
     "data": {
      "text/plain": [
       "{'text': ' She had your duck suit and greasy wash water all year.',\n",
       " 'segments': [{'id': 0,\n",
       "   'seek': 0,\n",
       "   'start': 0.0,\n",
       "   'end': 2.7800000000000002,\n",
       "   'text': ' She had your duck suit and greasy wash water all year.',\n",
       "   'tokens': [50365,\n",
       "    1240,\n",
       "    632,\n",
       "    428,\n",
       "    12482,\n",
       "    5722,\n",
       "    293,\n",
       "    36401,\n",
       "    5675,\n",
       "    1281,\n",
       "    439,\n",
       "    1064,\n",
       "    13,\n",
       "    50504],\n",
       "   'temperature': 0.0,\n",
       "   'avg_logprob': -0.2915722211201986,\n",
       "   'compression_ratio': 0.9,\n",
       "   'no_speech_prob': 0.008044268004596233}],\n",
       " 'language': 'en'}"
      ]
     },
     "execution_count": 31,
     "metadata": {},
     "output_type": "execute_result"
    }
   ],
   "source": [
    "result = model.transcribe(str(input_path))\n",
    "result"
   ]
  },
  {
   "cell_type": "code",
   "execution_count": null,
   "metadata": {},
   "outputs": [],
   "source": []
  }
 ],
 "metadata": {
  "kernelspec": {
   "display_name": "Python 3",
   "language": "python",
   "name": "python3"
  },
  "language_info": {
   "codemirror_mode": {
    "name": "ipython",
    "version": 3
   },
   "file_extension": ".py",
   "mimetype": "text/x-python",
   "name": "python",
   "nbconvert_exporter": "python",
   "pygments_lexer": "ipython3",
   "version": "3.9.18"
  }
 },
 "nbformat": 4,
 "nbformat_minor": 2
}
